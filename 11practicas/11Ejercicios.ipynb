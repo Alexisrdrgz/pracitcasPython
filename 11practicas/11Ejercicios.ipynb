{
 "cells": [
  {
   "cell_type": "code",
   "execution_count": null,
   "metadata": {},
   "outputs": [],
   "source": []
  },
  {
   "cell_type": "markdown",
   "metadata": {},
   "source": [
    "## 1. Odd or Even (Par o Impar)\n",
    "Este programa verifica si un número ingresado por el usuario es par o impar."
   ]
  },
  {
   "cell_type": "code",
   "execution_count": null,
   "metadata": {},
   "outputs": [],
   "source": [
    "def odd_or_even(number):\n",
    "    if number % 2 == 0:\n",
    "        return \"¡Es un número par!\"\n",
    "    else:\n",
    "        return \"¡Es un número impar!\"\n",
    "\n",
    "try:\n",
    "    user_number = int(input(\"Ingresa un número: \"))\n",
    "    print(odd_or_even(user_number))\n",
    "except ValueError:\n",
    "    print(\"Por favor, ingresa un número válido.\")\n"
   ]
  },
  {
   "cell_type": "markdown",
   "metadata": {},
   "source": [
    "\n",
    "## 2. Mad Libs Game (Juego de Palabras Locas)\n",
    "Un juego donde el usuario completa espacios en blanco en una historia.\n"
   ]
  },
  {
   "cell_type": "code",
   "execution_count": null,
   "metadata": {},
   "outputs": [],
   "source": [
    "def mad_libs():\n",
    "    noun = input(\"Ingresa un sustantivo: \")\n",
    "    adjective = input(\"Ingresa un adjetivo: \")\n",
    "    verb = input(\"Ingresa un verbo en pasado: \")\n",
    "\n",
    "    story = f\"El {adjective} {noun} {verb} por el parque.\"\n",
    "    print(story)\n",
    "\n",
    "mad_libs()\n"
   ]
  },
  {
   "cell_type": "markdown",
   "metadata": {},
   "source": [
    "## 3. Word Count (Contador de Palabras)\n",
    "Calcula la cantidad de palabras en una oración ingresada por el usuario."
   ]
  },
  {
   "cell_type": "code",
   "execution_count": null,
   "metadata": {},
   "outputs": [],
   "source": [
    "def contador_Palabras(texto):\n",
    "    palabras = texto.split()\n",
    "    return len(palabras)\n",
    "\n",
    "texto_Usuario = input(\"Ingresa una oración: \")\n",
    "print(f\"La oración tiene {contador_Palabras(texto_Usuario)} palabras.\")\n"
   ]
  },
  {
   "cell_type": "markdown",
   "metadata": {},
   "source": [
    "## 4. Biography Info (Información de Biografía)\n",
    "Genera una descripción personalizada basada en la información ingresada por el usuario."
   ]
  },
  {
   "cell_type": "code",
   "execution_count": null,
   "metadata": {},
   "outputs": [],
   "source": [
    "def biografia(nombre, edad, ocupacion):\n",
    "    return f\"{nombre} tiene {edad} años y trabaja como {ocupacion}.\"\n",
    "\n",
    "nombre = input(\"Ingresa tu nombre: \")\n",
    "edad = input(\"Ingresa tu edad: \")\n",
    "ocupacion = input(\"Ingresa tu ocupación: \")\n",
    "\n",
    "print(biografia(nombre, edad, ocupacion))\n"
   ]
  },
  {
   "cell_type": "markdown",
   "metadata": {},
   "source": [
    "## 5. What's My Acronym? (¿Cuál es mi acrónimo?)\n",
    "Crea un acrónimo a partir de una frase ingresada por el usuario."
   ]
  },
  {
   "cell_type": "code",
   "execution_count": null,
   "metadata": {},
   "outputs": [],
   "source": [
    "def acronym_generator(frase):\n",
    "    palabras = frase.split()\n",
    "    acronimo = \"\".join(palabra[0].upper() for palabra in palabras)\n",
    "    return acronimo\n",
    "\n",
    "palabra_completa = input(\"Ingresa una frase: \")\n",
    "print(f\"El acrónimo es: {acronym_generator(palabra_completa)}\")\n"
   ]
  },
  {
   "cell_type": "markdown",
   "metadata": {},
   "source": [
    "## 6. Rock, Paper, Scissors (Piedra, Papel o Tijeras)\n",
    "Juega contra la computadora en una partida de piedra, papel o tijeras.\n"
   ]
  },
  {
   "cell_type": "code",
   "execution_count": null,
   "metadata": {},
   "outputs": [],
   "source": [
    "import random\n",
    "\n",
    "def play_rps(user_choice):\n",
    "    options = [\"piedra\", \"papel\", \"tijeras\"]\n",
    "    computer_choice = random.choice(options)\n",
    "\n",
    "    if user_choice == computer_choice:\n",
    "        return \"¡Empate!\"\n",
    "    elif (user_choice == \"piedra\" and computer_choice == \"tijeras\") or (user_choice == \"papel\" and computer_choice == \"piedra\") or (user_choice == \"tijeras\" and computer_choice == \"papel\"):\n",
    "        return f\"Ganaste. La computadora eligió {computer_choice}.\"\n",
    "    else:\n",
    "        return f\"Perdiste. La computadora eligió {computer_choice}.\"\n",
    "\n",
    "user_input = input(\"Elige piedra, papel o tijeras: \").lower()\n",
    "print(play_rps(user_input))\n"
   ]
  },
  {
   "cell_type": "markdown",
   "metadata": {},
   "source": [
    "## 7. Guess the Number (Adivina el Número)\n",
    "El usuario intenta adivinar un número secreto generado por la computadora."
   ]
  },
  {
   "cell_type": "code",
   "execution_count": null,
   "metadata": {},
   "outputs": [],
   "source": [
    "import random\n",
    "\n",
    "def guess_the_number():\n",
    "    secret_number = random.randint(1, 100)\n",
    "    attempts = 0\n",
    "\n",
    "    while True:\n",
    "        user_guess = int(input(\"Adivina el número (entre 1 y 100): \"))\n",
    "        attempts += 1\n",
    "\n",
    "        if user_guess == secret_number:\n",
    "            print(f\"¡Correcto! El número era {secret_number}. Necesitaste {attempts} intentos.\")\n",
    "            break\n",
    "        elif user_guess < secret_number:\n",
    "            print(\"Intenta con un número más grande.\")\n",
    "        else:\n",
    "            print(\"Intenta con un número más pequeño.\")\n",
    "\n",
    "guess_the_number()\n"
   ]
  },
  {
   "cell_type": "markdown",
   "metadata": {},
   "source": [
    "## 8. Is a Palindrome (¿Es un Palíndromo?)\n",
    "Verifica si una palabra o frase ingresada por el usuario es un palíndromo.\n"
   ]
  },
  {
   "cell_type": "code",
   "execution_count": null,
   "metadata": {},
   "outputs": [],
   "source": [
    "def is_palindrome(palabra):\n",
    "    palabra_limpia = palabra.lower().replace(\" \", \"\")\n",
    "    return palabra_limpia == palabra_limpia[::-1]\n",
    "\n",
    "palabra_Completo = input(\"Ingresa una palabra o frase: \")\n",
    "if is_palindrome(palabra_Completo):\n",
    "    print(\"¡Es un palíndromo!\")\n",
    "else:\n",
    "    print(\"No es un palíndromo.\")\n"
   ]
  },
  {
   "cell_type": "markdown",
   "metadata": {},
   "source": [
    "## 9. Calculate the Tip (Calcular la Propina)\n",
    "Calcula la cantidad de propina a partir del total de la cuenta y el porcentaje deseado."
   ]
  },
  {
   "cell_type": "code",
   "execution_count": null,
   "metadata": {},
   "outputs": [],
   "source": [
    "def calculo(total, porcentaje):\n",
    "    cantidad_total = total * (porcentaje / 100)\n",
    "    return cantidad_total\n",
    "\n",
    "total = float(input(\"Ingresa el total de la cuenta: \"))\n",
    "porcentaje = float(input(\"Ingresa el porcentaje de propina que deseas dar: \"))\n",
    "print(f\"La propina a pagar es: ${calculo(total, porcentaje):.2f}\")\n"
   ]
  },
  {
   "cell_type": "markdown",
   "metadata": {},
   "source": [
    "## 10. Email Slicer (Divisor de Correo Electrónico)\n",
    "Extrae el nombre de usuario y el dominio de un correo electrónico ingresado por el usuario.\n"
   ]
  },
  {
   "cell_type": "code",
   "execution_count": null,
   "metadata": {},
   "outputs": [],
   "source": [
    "def email_slicer():\n",
    "    correo = input(\"Ingresa tu dirección de correo electrónico: \").strip()\n",
    "    usuario = correo[:correo.index('@')]\n",
    "    dominio = correo[correo.index('@') + 1:]\n",
    "    print(f\"Tu nombre de usuario es {usuario} y el dominio es {dominio}\")\n",
    "\n",
    "email_slicer()\n"
   ]
  }
 ],
 "metadata": {
  "language_info": {
   "name": "python"
  }
 },
 "nbformat": 4,
 "nbformat_minor": 2
}
